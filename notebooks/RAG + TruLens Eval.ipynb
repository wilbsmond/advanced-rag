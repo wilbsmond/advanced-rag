{
 "cells": [
  {
   "cell_type": "code",
   "execution_count": 1,
   "id": "997de1eb-c601-4ee3-bd8e-30bccc8ff18a",
   "metadata": {},
   "outputs": [],
   "source": [
    "import os\n",
    "from dotenv import load_dotenv\n",
    "import openai\n",
    "from llama_index import download_loader, SimpleDirectoryReader, Document\n",
    "from llama_index.llms import OpenAI\n",
    "from trulens_eval import Tru\n",
    "\n",
    "from sentence_window_retrieval import build_sentence_window_index, get_sentence_window_query_engine\n",
    "from auto_merging_retrieval import build_automerging_index, get_automerging_query_engine\n",
    "from trulens_utils import trulens_recorder, run_evals"
   ]
  },
  {
   "cell_type": "code",
   "execution_count": 2,
   "id": "0b07695c-f762-430a-8ddc-99f1e95f458a",
   "metadata": {},
   "outputs": [],
   "source": [
    "_ = load_dotenv()\n",
    "openai.api_key = os.getenv(\"OPENAI_API_KEY\")\n",
    "notion_token = os.getenv('NOTION_INTEGRATION_TOKEN')"
   ]
  },
  {
   "cell_type": "code",
   "execution_count": 3,
   "id": "ea60cfb4-c92d-4e7c-9906-a01579c6b3e5",
   "metadata": {},
   "outputs": [],
   "source": [
    "llm = OpenAI(model=\"gpt-3.5-turbo\", temperature=0.1)"
   ]
  },
  {
   "cell_type": "markdown",
   "id": "fcd69545-c59d-4587-99fa-ee1101959583",
   "metadata": {},
   "source": [
    "# Load Data Source"
   ]
  },
  {
   "cell_type": "code",
   "execution_count": 4,
   "id": "cbd48365-2a1b-4320-af6c-a7672a92203c",
   "metadata": {},
   "outputs": [],
   "source": [
    "NotionPageReader = download_loader('NotionPageReader')\n",
    "\n",
    "page_ids = [\"491ea0f6b03147bb8dbc78d5ba6d058d\"]\n",
    "documents = NotionPageReader(integration_token=notion_token).load_data(\n",
    "    page_ids=page_ids\n",
    ")"
   ]
  },
  {
   "cell_type": "code",
   "execution_count": 9,
   "id": "6c680794-336b-45ee-8005-717049b3bdcf",
   "metadata": {},
   "outputs": [],
   "source": [
    "documents_pdf = SimpleDirectoryReader(\n",
    "    input_files=[\"./docs/eBook-How-to-Build-a-Career-in-AI.pdf\"]\n",
    ").load_data()"
   ]
  },
  {
   "cell_type": "code",
   "execution_count": 10,
   "id": "7a39f00a-26ff-4ee2-b843-e92270770303",
   "metadata": {},
   "outputs": [
    {
     "name": "stdout",
     "output_type": "stream",
     "text": [
      "<class 'list'> \n",
      "\n",
      "41 \n",
      "\n",
      "<class 'llama_index.schema.Document'>\n",
      "Doc ID: d251a943-b034-4478-b68d-530810a0f098\n",
      "Text: PAGE 1Founder, DeepLearning.AICollected Insights from Andrew Ng\n",
      "How to  Build Your Career in AIA Simple Guide\n"
     ]
    }
   ],
   "source": [
    "print(type(documents_pdf), \"\\n\")\n",
    "print(len(documents_pdf), \"\\n\")\n",
    "print(type(documents_pdf[0]))\n",
    "print(documents_pdf[0])"
   ]
  },
  {
   "cell_type": "code",
   "execution_count": 6,
   "id": "4ff1479b-d0c2-45d1-812b-a73ae3a7248b",
   "metadata": {},
   "outputs": [],
   "source": [
    "document = Document(text=\"\\n\\n\".join([doc.text for doc in documents]))"
   ]
  },
  {
   "cell_type": "markdown",
   "id": "8db028d8-9bb4-446b-b186-1300aae46828",
   "metadata": {
    "jp-MarkdownHeadingCollapsed": true
   },
   "source": [
    "# Set Up Evaluation (with TruLens)"
   ]
  },
  {
   "cell_type": "code",
   "execution_count": 4,
   "id": "d6001c0f-bfa2-4cb0-8936-2ff6d9f3089f",
   "metadata": {},
   "outputs": [],
   "source": [
    "def get_eval_questions(path_eval_questions):\n",
    "    eval_questions = []\n",
    "    with open(path_eval_questions, 'r') as file:\n",
    "        for line in file:\n",
    "            # Remove newline character and convert to integer\n",
    "            item = line.strip()\n",
    "            eval_questions.append(item)\n",
    "    return eval_questions"
   ]
  },
  {
   "cell_type": "code",
   "execution_count": 5,
   "id": "00913397-6f45-45b1-8509-14036acd7741",
   "metadata": {},
   "outputs": [
    {
     "name": "stdout",
     "output_type": "stream",
     "text": [
      "🦑 Tru initialized with db url sqlite:///default.sqlite .\n",
      "🛑 Secret keys may be written to the database. See the `database_redact_keys` option of `Tru` to prevent this.\n"
     ]
    }
   ],
   "source": [
    "eval_questions = get_eval_questions(\"./eval_questions/generated_questions_01_05.text\")\n",
    "Tru().reset_database()"
   ]
  },
  {
   "cell_type": "markdown",
   "id": "7e748246-46a9-4f3b-83d6-3da3be701c85",
   "metadata": {},
   "source": [
    "# Sentence window retrieval"
   ]
  },
  {
   "cell_type": "code",
   "execution_count": 7,
   "id": "4789dfbd-c10d-408e-8419-948067429fe1",
   "metadata": {},
   "outputs": [
    {
     "data": {
      "application/vnd.jupyter.widget-view+json": {
       "model_id": "7b3a378b350b46799c76b7d851f73af9",
       "version_major": 2,
       "version_minor": 0
      },
      "text/plain": [
       "config.json:   0%|          | 0.00/743 [00:00<?, ?B/s]"
      ]
     },
     "metadata": {},
     "output_type": "display_data"
    },
    {
     "name": "stderr",
     "output_type": "stream",
     "text": [
      "C:\\Users\\su.osmond\\AppData\\Local\\anaconda3\\envs\\llm\\lib\\site-packages\\huggingface_hub\\file_download.py:147: UserWarning: `huggingface_hub` cache-system uses symlinks by default to efficiently store duplicated files but your machine does not support them in C:\\Users\\su.osmond\\AppData\\Local\\llama_index\\models. Caching files will still work but in a degraded version that might require more space on your disk. This warning can be disabled by setting the `HF_HUB_DISABLE_SYMLINKS_WARNING` environment variable. For more details, see https://huggingface.co/docs/huggingface_hub/how-to-cache#limitations.\n",
      "To support symlinks on Windows, you either need to activate Developer Mode or to run Python as an administrator. In order to see activate developer mode, see this article: https://docs.microsoft.com/en-us/windows/apps/get-started/enable-your-device-for-development\n",
      "  warnings.warn(message)\n"
     ]
    },
    {
     "data": {
      "application/vnd.jupyter.widget-view+json": {
       "model_id": "0655b792e72a436fab32b9f86b0e0ca4",
       "version_major": 2,
       "version_minor": 0
      },
      "text/plain": [
       "model.safetensors:   0%|          | 0.00/133M [00:00<?, ?B/s]"
      ]
     },
     "metadata": {},
     "output_type": "display_data"
    },
    {
     "data": {
      "application/vnd.jupyter.widget-view+json": {
       "model_id": "f6a06a48059a4eb08ebb7c93c2fc49e7",
       "version_major": 2,
       "version_minor": 0
      },
      "text/plain": [
       "tokenizer_config.json:   0%|          | 0.00/366 [00:00<?, ?B/s]"
      ]
     },
     "metadata": {},
     "output_type": "display_data"
    },
    {
     "data": {
      "application/vnd.jupyter.widget-view+json": {
       "model_id": "4412d435fcc241c3b3e11e3fbf0a178b",
       "version_major": 2,
       "version_minor": 0
      },
      "text/plain": [
       "vocab.txt:   0%|          | 0.00/232k [00:00<?, ?B/s]"
      ]
     },
     "metadata": {},
     "output_type": "display_data"
    },
    {
     "data": {
      "application/vnd.jupyter.widget-view+json": {
       "model_id": "bfcee3134aef4163a5e4cd1cad6387d2",
       "version_major": 2,
       "version_minor": 0
      },
      "text/plain": [
       "tokenizer.json:   0%|          | 0.00/711k [00:00<?, ?B/s]"
      ]
     },
     "metadata": {},
     "output_type": "display_data"
    },
    {
     "data": {
      "application/vnd.jupyter.widget-view+json": {
       "model_id": "e17e2b83839140ae85d0d40ff5ec54f5",
       "version_major": 2,
       "version_minor": 0
      },
      "text/plain": [
       "special_tokens_map.json:   0%|          | 0.00/125 [00:00<?, ?B/s]"
      ]
     },
     "metadata": {},
     "output_type": "display_data"
    },
    {
     "data": {
      "application/vnd.jupyter.widget-view+json": {
       "model_id": "423a832e6ccf4812a10849453ad535a6",
       "version_major": 2,
       "version_minor": 0
      },
      "text/plain": [
       "config.json:   0%|          | 0.00/799 [00:00<?, ?B/s]"
      ]
     },
     "metadata": {},
     "output_type": "display_data"
    },
    {
     "name": "stderr",
     "output_type": "stream",
     "text": [
      "C:\\Users\\su.osmond\\AppData\\Local\\anaconda3\\envs\\llm\\lib\\site-packages\\huggingface_hub\\file_download.py:147: UserWarning: `huggingface_hub` cache-system uses symlinks by default to efficiently store duplicated files but your machine does not support them in C:\\Users\\su.osmond\\.cache\\huggingface\\hub. Caching files will still work but in a degraded version that might require more space on your disk. This warning can be disabled by setting the `HF_HUB_DISABLE_SYMLINKS_WARNING` environment variable. For more details, see https://huggingface.co/docs/huggingface_hub/how-to-cache#limitations.\n",
      "To support symlinks on Windows, you either need to activate Developer Mode or to run Python as an administrator. In order to see activate developer mode, see this article: https://docs.microsoft.com/en-us/windows/apps/get-started/enable-your-device-for-development\n",
      "  warnings.warn(message)\n"
     ]
    },
    {
     "data": {
      "application/vnd.jupyter.widget-view+json": {
       "model_id": "45a38a7111c74b0babc0571dc3084844",
       "version_major": 2,
       "version_minor": 0
      },
      "text/plain": [
       "model.safetensors:   0%|          | 0.00/1.11G [00:00<?, ?B/s]"
      ]
     },
     "metadata": {},
     "output_type": "display_data"
    },
    {
     "data": {
      "application/vnd.jupyter.widget-view+json": {
       "model_id": "fb79046831f44e47aeed49a32ee575ca",
       "version_major": 2,
       "version_minor": 0
      },
      "text/plain": [
       "tokenizer_config.json:   0%|          | 0.00/443 [00:00<?, ?B/s]"
      ]
     },
     "metadata": {},
     "output_type": "display_data"
    },
    {
     "data": {
      "application/vnd.jupyter.widget-view+json": {
       "model_id": "94ce4b5b5e47452493a0ee37e2572f1b",
       "version_major": 2,
       "version_minor": 0
      },
      "text/plain": [
       "sentencepiece.bpe.model:   0%|          | 0.00/5.07M [00:00<?, ?B/s]"
      ]
     },
     "metadata": {},
     "output_type": "display_data"
    },
    {
     "data": {
      "application/vnd.jupyter.widget-view+json": {
       "model_id": "c58e2eac94444007ac9a923b3b5b5985",
       "version_major": 2,
       "version_minor": 0
      },
      "text/plain": [
       "tokenizer.json:   0%|          | 0.00/17.1M [00:00<?, ?B/s]"
      ]
     },
     "metadata": {},
     "output_type": "display_data"
    },
    {
     "data": {
      "application/vnd.jupyter.widget-view+json": {
       "model_id": "9df49aca23074a23b987ad216248fd40",
       "version_major": 2,
       "version_minor": 0
      },
      "text/plain": [
       "special_tokens_map.json:   0%|          | 0.00/279 [00:00<?, ?B/s]"
      ]
     },
     "metadata": {},
     "output_type": "display_data"
    }
   ],
   "source": [
    "# Sentence window retrieval\n",
    "sentence_window_size = 3\n",
    "sentence_index = build_sentence_window_index(\n",
    "    [document],\n",
    "    llm=llm,\n",
    "    embed_model=\"local:BAAI/bge-small-en-v1.5\",\n",
    "    sentence_window_size=sentence_window_size,\n",
    "    save_dir=\"./sentence_index_notion\",\n",
    ")\n",
    "sentence_window_engine = get_sentence_window_query_engine(sentence_index, similarity_top_k=6)"
   ]
  },
  {
   "cell_type": "code",
   "execution_count": 12,
   "id": "afb25d8c-bcae-4755-98c9-900aaa02640c",
   "metadata": {},
   "outputs": [
    {
     "name": "stdout",
     "output_type": "stream",
     "text": [
      "To dominate your first week, it is important to be well-prepared. Start by familiarizing yourself with any relevant materials or resources provided by your team or organization. Additionally, make sure to attend any scheduled meetings or orientations to gather important information and ask any questions you may have. Take the time to understand the expectations and goals for your role, and consider reaching out to your team members or supervisor for guidance or clarification. Finally, establish a routine and schedule that works for you, allowing you to be productive and focused during your first week.\n"
     ]
    }
   ],
   "source": [
    "window_response = sentence_window_engine.query(\n",
    "    \"how can i dominate my first week\"\n",
    ")\n",
    "print(str(window_response))"
   ]
  },
  {
   "cell_type": "code",
   "execution_count": 7,
   "id": "d5d996de-24f0-4996-8dda-e9ba6a65f01a",
   "metadata": {},
   "outputs": [
    {
     "name": "stdout",
     "output_type": "stream",
     "text": [
      "✅ In Answer Relevance, input prompt will be set to __record__.main_input or `Select.RecordInput` .\n",
      "✅ In Answer Relevance, input response will be set to __record__.main_output or `Select.RecordOutput` .\n",
      "✅ In Context Relevance, input prompt will be set to __record__.main_input or `Select.RecordInput` .\n",
      "✅ In Context Relevance, input response will be set to __record__.app.query.rets.source_nodes[:].node.text .\n",
      "✅ In Groundedness, input source will be set to __record__.app.query.rets.source_nodes[:].node.text .\n",
      "✅ In Groundedness, input statement will be set to __record__.main_output or `Select.RecordOutput` .\n",
      "Starting dashboard ...\n",
      "Config file already exists. Skipping writing process.\n",
      "Credentials file already exists. Skipping writing process.\n",
      "Dashboard already running at path:   Network URL: http://192.168.178.25:8501\n",
      "\n"
     ]
    },
    {
     "data": {
      "text/plain": [
       "<Popen: returncode: None args: ['streamlit', 'run', '--server.headless=True'...>"
      ]
     },
     "execution_count": 7,
     "metadata": {},
     "output_type": "execute_result"
    }
   ],
   "source": [
    "# Evaluate with Trulens\n",
    "tru_recorder = trulens_recorder(\n",
    "    sentence_window_engine,\n",
    "    app_id=f'sentence window engine {sentence_window_size}'\n",
    ")\n",
    "run_evals(eval_questions, tru_recorder, sentence_window_engine)\n",
    "Tru().get_leaderboard(app_ids=[])\n",
    "Tru().run_dashboard()"
   ]
  },
  {
   "cell_type": "markdown",
   "id": "e0087a67-e3a3-422c-b18e-c111dc22911a",
   "metadata": {},
   "source": [
    "# Auto merging retrieval"
   ]
  },
  {
   "cell_type": "code",
   "execution_count": 17,
   "id": "ccb43620-f90e-4997-b146-cb2edafcc717",
   "metadata": {},
   "outputs": [],
   "source": [
    "automerging_index = build_automerging_index(\n",
    "    documents,\n",
    "    llm=OpenAI(model=\"gpt-3.5-turbo\", temperature=0.1),\n",
    "    embed_model=\"local:BAAI/bge-small-en-v1.5\",\n",
    "    save_dir=\"merging_index_0\",\n",
    "    chunk_sizes=[2048,512], #,128\n",
    ")\n",
    "automerging_query_engine = get_automerging_query_engine(\n",
    "    automerging_index,\n",
    "    similarity_top_k=12,\n",
    "    rerank_top_n=6,\n",
    ")"
   ]
  },
  {
   "cell_type": "code",
   "execution_count": 18,
   "id": "ffd5cf28-15ac-4da7-90a4-253d8e062c9b",
   "metadata": {},
   "outputs": [
    {
     "name": "stdout",
     "output_type": "stream",
     "text": [
      "> Merging 1 nodes into parent node.\n",
      "> Parent node id: 0007c30e-b930-42db-b170-18c2d8279ae2.\n",
      "> Parent node text: PAGE 23Each project is only one step on a longer journey, hopefully one that has a positive impac...\n",
      "\n",
      "> Merging 1 nodes into parent node.\n",
      "> Parent node id: 3e570d77-b3ac-46c0-9b37-283792849d3d.\n",
      "> Parent node text: PAGE 15One of the most important skills of an AI architect is the ability to identify ideas that ...\n",
      "\n",
      "> Merging 1 nodes into parent node.\n",
      "> Parent node id: 5917d9b8-323c-45ff-9e0a-82ba8772fafa.\n",
      "> Parent node text: PAGE 21Building a Portfolio of \n",
      "Projects that Shows \n",
      "Skill Progression CHAPTER 6\n",
      "PROJECTS\n",
      "\n",
      "> Merging 1 nodes into parent node.\n",
      "> Parent node id: 3f85bd58-3867-41dd-9dae-39e3f4929d16.\n",
      "> Parent node text: PAGE 18It goes without saying that we should only work on projects that are responsible, ethical,...\n",
      "\n",
      "> Merging 1 nodes into parent node.\n",
      "> Parent node id: 5ff7ddd2-4578-48c1-b7c9-ae3d5d89e225.\n",
      "> Parent node text: PAGE 16Determine milestones. Once you’ve deemed a project sufficiently \n",
      "valuable, the next step i...\n",
      "\n",
      "> Merging 1 nodes into parent node.\n",
      "> Parent node id: 7285b8c5-50a9-43de-af76-aa1bb1e4cba9.\n",
      "> Parent node text: PAGE 3Table of \n",
      "ContentsIntroduction: Coding AI is the New Literacy.\n",
      "Chapter 1: Three Steps to Ca...\n",
      "\n",
      "> Merging 1 nodes into parent node.\n",
      "> Parent node id: 28f3539a-ec68-4b87-aa8b-11fc63268ca0.\n",
      "> Parent node text: PAGE 22Over the course of a career, you’re likely to work on projects in succession, each growing...\n",
      "\n",
      "> Merging 1 nodes into parent node.\n",
      "> Parent node id: 149ebba9-442d-40aa-bfeb-adb44ac81d32.\n",
      "> Parent node text: PAGE 7These phases apply in a wide \n",
      "range of professions, but AI \n",
      "involves unique elements.\n",
      "For e...\n",
      "\n",
      "> Merging 1 nodes into parent node.\n",
      "> Parent node id: dc53b1d1-d8e8-4db4-bbbf-51e9f2479228.\n",
      "> Parent node text: PAGE 6The rapid rise of AI has led to a rapid rise in AI jobs, and many people are building excit...\n",
      "\n",
      "> Merging 1 nodes into parent node.\n",
      "> Parent node id: 8dc02003-756b-4bdd-9f44-9e5d80a41a9a.\n",
      "> Parent node text: PAGE 17Finding Projects that \n",
      "Complement Your \n",
      "Career GoalsCHAPTER 5\n",
      "PROJECTS\n",
      "\n",
      "> Merging 1 nodes into parent node.\n",
      "> Parent node id: cc893d66-1478-464c-a04b-eb52d2fd34fe.\n",
      "> Parent node text: PAGE 14Scoping Successful \n",
      "AI ProjectsCHAPTER 4\n",
      "PROJECTS\n",
      "\n",
      "> Merging 1 nodes into parent node.\n",
      "> Parent node id: b5a991ac-5d03-4957-86a5-be9e38ee8b40.\n",
      "> Parent node text: PAGE 8Learning Technical \n",
      "Skills for a Promising \n",
      "AI CareerCHAPTER 2\n",
      "LEARNING\n",
      "\n",
      "To build a portfolio of AI projects, it is important to start small and gradually progress to more complex undertakings. Begin by identifying a business problem in a specific domain and brainstorm potential AI solutions. Communicate the value of your project to colleagues, mentors, and managers to gain their support and feedback. As you work on projects, focus on clear and effective communication of your accomplishments. Additionally, leadership skills are valuable in larger AI projects, even if you are not in a formal leadership position. By showcasing a progression of projects, from simple to complex, you can demonstrate your skill development over time.\n"
     ]
    }
   ],
   "source": [
    "auto_merging_response = automerging_query_engine.query(\n",
    "    \"How do I build a portfolio of AI projects?\"\n",
    ")\n",
    "print(str(auto_merging_response))"
   ]
  },
  {
   "cell_type": "code",
   "execution_count": 8,
   "id": "40fdbdad-e1ec-4199-baa0-912d4fbd5e0b",
   "metadata": {},
   "outputs": [
    {
     "name": "stdout",
     "output_type": "stream",
     "text": [
      "✅ In Answer Relevance, input prompt will be set to __record__.main_input or `Select.RecordInput` .\n",
      "✅ In Answer Relevance, input response will be set to __record__.main_output or `Select.RecordOutput` .\n",
      "✅ In Context Relevance, input prompt will be set to __record__.main_input or `Select.RecordInput` .\n",
      "✅ In Context Relevance, input response will be set to __record__.app.query.rets.source_nodes[:].node.text .\n",
      "✅ In Groundedness, input source will be set to __record__.app.query.rets.source_nodes[:].node.text .\n",
      "✅ In Groundedness, input statement will be set to __record__.main_output or `Select.RecordOutput` .\n",
      "> Merging 1 nodes into parent node.\n",
      "> Parent node id: 1e1db56c-8968-48ec-bdee-6f79efe41ffb.\n",
      "> Parent node text: PAGE 26If you’re considering a role switch, a startup can be an easier place to do it than a big ...\n",
      "\n",
      "> Merging 1 nodes into parent node.\n",
      "> Parent node id: 805e22c4-22af-4f1e-8237-33710099f077.\n",
      "> Parent node text: PAGE 25Finding a job has a few predictable steps that include selecting the companies to which yo...\n",
      "\n",
      "> Merging 1 nodes into parent node.\n",
      "> Parent node id: 2c3980c1-d104-41d6-a4d7-e951ec4459bb.\n",
      "> Parent node text: PAGE 33Choose who to work with. It’s tempting to take a position because of the projects you’ll w...\n",
      "\n",
      "> Merging 1 nodes into parent node.\n",
      "> Parent node id: 0007c30e-b930-42db-b170-18c2d8279ae2.\n",
      "> Parent node text: PAGE 23Each project is only one step on a longer journey, hopefully one that has a positive impac...\n",
      "\n",
      "> Merging 1 nodes into parent node.\n",
      "> Parent node id: 02263d02-d64f-4da8-bea5-113ae212d156.\n",
      "> Parent node text: PAGE 29If you’re preparing to switch roles (say, taking a job as a machine learning engineer for ...\n",
      "\n",
      "> Merging 1 nodes into parent node.\n",
      "> Parent node id: 3f85bd58-3867-41dd-9dae-39e3f4929d16.\n",
      "> Parent node text: PAGE 18It goes without saying that we should only work on projects that are responsible, ethical,...\n",
      "\n",
      "> Merging 1 nodes into parent node.\n",
      "> Parent node id: 28f3539a-ec68-4b87-aa8b-11fc63268ca0.\n",
      "> Parent node text: PAGE 22Over the course of a career, you’re likely to work on projects in succession, each growing...\n",
      "\n",
      "> Merging 1 nodes into parent node.\n",
      "> Parent node id: dc273916-b3a4-4f83-933c-954afc70d299.\n",
      "> Parent node text: PAGE 19Develop a side hustle. Even if you have a full-time job, a fun project that may or may not...\n",
      "\n",
      "> Merging 1 nodes into parent node.\n",
      "> Parent node id: a0753bf8-3dde-46cd-b54a-50b61b7b514a.\n",
      "> Parent node text: PAGE 35Keys to Building a Career in AI CHAPTER 10\n",
      "The path to career success in AI is more comple...\n",
      "\n",
      "> Merging 1 nodes into parent node.\n",
      "> Parent node id: 229a015a-ecd7-4748-bda4-9d960f8bbdad.\n",
      "> Parent node text: PAGE 30Finding someone to interview isn’t always easy, but many people who are in senior position...\n",
      "\n",
      "> Merging 1 nodes into parent node.\n",
      "> Parent node id: 3a92886f-03a3-4a2a-bdfd-164776858875.\n",
      "> Parent node text: PAGE 27There’s a lot we don’t know about the future: When will we cure Alzheimer’s disease? Who w...\n",
      "\n",
      "> Merging 2 nodes into parent node.\n",
      "> Parent node id: cf360c24-3765-41a7-a074-5dedf9e5a641.\n",
      "> Parent node text: PAGE 20Working on projects requires making tough choices about what to build and how to go \n",
      "about...\n",
      "\n",
      "> Merging 1 nodes into parent node.\n",
      "> Parent node id: 2c3980c1-d104-41d6-a4d7-e951ec4459bb.\n",
      "> Parent node text: PAGE 33Choose who to work with. It’s tempting to take a position because of the projects you’ll w...\n",
      "\n",
      "> Merging 1 nodes into parent node.\n",
      "> Parent node id: 3f85bd58-3867-41dd-9dae-39e3f4929d16.\n",
      "> Parent node text: PAGE 18It goes without saying that we should only work on projects that are responsible, ethical,...\n",
      "\n",
      "> Merging 1 nodes into parent node.\n",
      "> Parent node id: 2c74560f-f670-44b6-b3b9-f1410e9b1fe6.\n",
      "> Parent node text: PAGE 36Keys to Building a Career in AI CHAPTER 10\n",
      "Of all the steps in building a career, this \n",
      "on...\n",
      "\n",
      "> Merging 1 nodes into parent node.\n",
      "> Parent node id: dc273916-b3a4-4f83-933c-954afc70d299.\n",
      "> Parent node text: PAGE 19Develop a side hustle. Even if you have a full-time job, a fun project that may or may not...\n",
      "\n",
      "> Merging 1 nodes into parent node.\n",
      "> Parent node id: 28f3539a-ec68-4b87-aa8b-11fc63268ca0.\n",
      "> Parent node text: PAGE 22Over the course of a career, you’re likely to work on projects in succession, each growing...\n",
      "\n",
      "> Merging 1 nodes into parent node.\n",
      "> Parent node id: 3e570d77-b3ac-46c0-9b37-283792849d3d.\n",
      "> Parent node text: PAGE 15One of the most important skills of an AI architect is the ability to identify ideas that ...\n",
      "\n",
      "> Merging 1 nodes into parent node.\n",
      "> Parent node id: 9b113cbd-65c6-4026-8e87-a038885c21cc.\n",
      "> Parent node text: PAGE 24A Simple Framework \n",
      "for Starting Your AI \n",
      "Job SearchCHAPTER 7\n",
      "JOBS\n",
      "\n",
      "> Merging 1 nodes into parent node.\n",
      "> Parent node id: 02263d02-d64f-4da8-bea5-113ae212d156.\n",
      "> Parent node text: PAGE 29If you’re preparing to switch roles (say, taking a job as a machine learning engineer for ...\n",
      "\n",
      "> Merging 2 nodes into parent node.\n",
      "> Parent node id: cf360c24-3765-41a7-a074-5dedf9e5a641.\n",
      "> Parent node text: PAGE 20Working on projects requires making tough choices about what to build and how to go \n",
      "about...\n",
      "\n",
      "> Merging 1 nodes into parent node.\n",
      "> Parent node id: 149ebba9-442d-40aa-bfeb-adb44ac81d32.\n",
      "> Parent node text: PAGE 7These phases apply in a wide \n",
      "range of professions, but AI \n",
      "involves unique elements.\n",
      "For e...\n",
      "\n",
      "> Merging 1 nodes into parent node.\n",
      "> Parent node id: 3f85bd58-3867-41dd-9dae-39e3f4929d16.\n",
      "> Parent node text: PAGE 18It goes without saying that we should only work on projects that are responsible, ethical,...\n",
      "\n",
      "> Merging 1 nodes into parent node.\n",
      "> Parent node id: 3e570d77-b3ac-46c0-9b37-283792849d3d.\n",
      "> Parent node text: PAGE 15One of the most important skills of an AI architect is the ability to identify ideas that ...\n",
      "\n",
      "> Merging 1 nodes into parent node.\n",
      "> Parent node id: 28f3539a-ec68-4b87-aa8b-11fc63268ca0.\n",
      "> Parent node text: PAGE 22Over the course of a career, you’re likely to work on projects in succession, each growing...\n",
      "\n",
      "> Merging 1 nodes into parent node.\n",
      "> Parent node id: 0007c30e-b930-42db-b170-18c2d8279ae2.\n",
      "> Parent node text: PAGE 23Each project is only one step on a longer journey, hopefully one that has a positive impac...\n",
      "\n",
      "> Merging 1 nodes into parent node.\n",
      "> Parent node id: 5ff7ddd2-4578-48c1-b7c9-ae3d5d89e225.\n",
      "> Parent node text: PAGE 16Determine milestones. Once you’ve deemed a project sufficiently \n",
      "valuable, the next step i...\n",
      "\n",
      "> Merging 1 nodes into parent node.\n",
      "> Parent node id: 02263d02-d64f-4da8-bea5-113ae212d156.\n",
      "> Parent node text: PAGE 29If you’re preparing to switch roles (say, taking a job as a machine learning engineer for ...\n",
      "\n",
      "> Merging 1 nodes into parent node.\n",
      "> Parent node id: 7285b8c5-50a9-43de-af76-aa1bb1e4cba9.\n",
      "> Parent node text: PAGE 3Table of \n",
      "ContentsIntroduction: Coding AI is the New Literacy.\n",
      "Chapter 1: Three Steps to Ca...\n",
      "\n",
      "> Merging 1 nodes into parent node.\n",
      "> Parent node id: 3a92886f-03a3-4a2a-bdfd-164776858875.\n",
      "> Parent node text: PAGE 27There’s a lot we don’t know about the future: When will we cure Alzheimer’s disease? Who w...\n",
      "\n",
      "> Merging 1 nodes into parent node.\n",
      "> Parent node id: dc53b1d1-d8e8-4db4-bbbf-51e9f2479228.\n",
      "> Parent node text: PAGE 6The rapid rise of AI has led to a rapid rise in AI jobs, and many people are building excit...\n",
      "\n",
      "> Merging 1 nodes into parent node.\n",
      "> Parent node id: dc273916-b3a4-4f83-933c-954afc70d299.\n",
      "> Parent node text: PAGE 19Develop a side hustle. Even if you have a full-time job, a fun project that may or may not...\n",
      "\n",
      "> Merging 1 nodes into parent node.\n",
      "> Parent node id: 28f3539a-ec68-4b87-aa8b-11fc63268ca0.\n",
      "> Parent node text: PAGE 22Over the course of a career, you’re likely to work on projects in succession, each growing...\n",
      "\n",
      "> Merging 1 nodes into parent node.\n",
      "> Parent node id: 0007c30e-b930-42db-b170-18c2d8279ae2.\n",
      "> Parent node text: PAGE 23Each project is only one step on a longer journey, hopefully one that has a positive impac...\n",
      "\n",
      "> Merging 1 nodes into parent node.\n",
      "> Parent node id: 3f85bd58-3867-41dd-9dae-39e3f4929d16.\n",
      "> Parent node text: PAGE 18It goes without saying that we should only work on projects that are responsible, ethical,...\n",
      "\n",
      "> Merging 1 nodes into parent node.\n",
      "> Parent node id: dc53b1d1-d8e8-4db4-bbbf-51e9f2479228.\n",
      "> Parent node text: PAGE 6The rapid rise of AI has led to a rapid rise in AI jobs, and many people are building excit...\n",
      "\n",
      "> Merging 1 nodes into parent node.\n",
      "> Parent node id: 2c74560f-f670-44b6-b3b9-f1410e9b1fe6.\n",
      "> Parent node text: PAGE 36Keys to Building a Career in AI CHAPTER 10\n",
      "Of all the steps in building a career, this \n",
      "on...\n",
      "\n",
      "> Merging 1 nodes into parent node.\n",
      "> Parent node id: 149ebba9-442d-40aa-bfeb-adb44ac81d32.\n",
      "> Parent node text: PAGE 7These phases apply in a wide \n",
      "range of professions, but AI \n",
      "involves unique elements.\n",
      "For e...\n",
      "\n",
      "> Merging 1 nodes into parent node.\n",
      "> Parent node id: 5ff7ddd2-4578-48c1-b7c9-ae3d5d89e225.\n",
      "> Parent node text: PAGE 16Determine milestones. Once you’ve deemed a project sufficiently \n",
      "valuable, the next step i...\n",
      "\n",
      "> Merging 1 nodes into parent node.\n",
      "> Parent node id: 8dc02003-756b-4bdd-9f44-9e5d80a41a9a.\n",
      "> Parent node text: PAGE 17Finding Projects that \n",
      "Complement Your \n",
      "Career GoalsCHAPTER 5\n",
      "PROJECTS\n",
      "\n",
      "> Merging 1 nodes into parent node.\n",
      "> Parent node id: a0753bf8-3dde-46cd-b54a-50b61b7b514a.\n",
      "> Parent node text: PAGE 35Keys to Building a Career in AI CHAPTER 10\n",
      "The path to career success in AI is more comple...\n",
      "\n",
      "> Merging 1 nodes into parent node.\n",
      "> Parent node id: 3e570d77-b3ac-46c0-9b37-283792849d3d.\n",
      "> Parent node text: PAGE 15One of the most important skills of an AI architect is the ability to identify ideas that ...\n",
      "\n",
      "> Merging 1 nodes into parent node.\n",
      "> Parent node id: cb5cb9e4-23c7-4c94-ba88-2d7f9c989533.\n",
      "> Parent node text: PAGE 13Should you Learn Math to Get a Job in AI? CHAPTER 3\n",
      "Is math a foundational skill for AI? I...\n",
      "\n",
      "> Merging 2 nodes into parent node.\n",
      "> Parent node id: 2334398b-85ff-4662-bda9-1fb44abc55f2.\n",
      "> Parent node text: PAGE 9In the previous chapter, I introduced three key steps for building a career in AI: learning...\n",
      "\n",
      "> Merging 1 nodes into parent node.\n",
      "> Parent node id: 22f70ad4-139c-4caf-8a3b-ae9b96a279cb.\n",
      "> Parent node text: PAGE 4Coding AI Is the New Literacy\n",
      "Today we take it for granted that many people know how to rea...\n",
      "\n",
      "> Merging 1 nodes into parent node.\n",
      "> Parent node id: 9df164be-ce4e-45c0-b4a5-2c50e28167b7.\n",
      "> Parent node text: PAGE 10This is a lot to learn!\n",
      "Even after you master everything on this list, I hope you’ll keep ...\n",
      "\n",
      "> Merging 1 nodes into parent node.\n",
      "> Parent node id: 3f85bd58-3867-41dd-9dae-39e3f4929d16.\n",
      "> Parent node text: PAGE 18It goes without saying that we should only work on projects that are responsible, ethical,...\n",
      "\n",
      "> Merging 1 nodes into parent node.\n",
      "> Parent node id: 5ff7ddd2-4578-48c1-b7c9-ae3d5d89e225.\n",
      "> Parent node text: PAGE 16Determine milestones. Once you’ve deemed a project sufficiently \n",
      "valuable, the next step i...\n",
      "\n",
      "> Merging 1 nodes into parent node.\n",
      "> Parent node id: 3e570d77-b3ac-46c0-9b37-283792849d3d.\n",
      "> Parent node text: PAGE 15One of the most important skills of an AI architect is the ability to identify ideas that ...\n",
      "\n",
      "> Merging 1 nodes into parent node.\n",
      "> Parent node id: 482f11b9-15e6-4ae6-8b34-3fcc724408e7.\n",
      "> Parent node text: PAGE 38Before we dive into the final chapter of this book, I’d like to address the serious matter...\n",
      "\n",
      "> Merging 1 nodes into parent node.\n",
      "> Parent node id: 149ebba9-442d-40aa-bfeb-adb44ac81d32.\n",
      "> Parent node text: PAGE 7These phases apply in a wide \n",
      "range of professions, but AI \n",
      "involves unique elements.\n",
      "For e...\n",
      "\n",
      "> Merging 1 nodes into parent node.\n",
      "> Parent node id: 0007c30e-b930-42db-b170-18c2d8279ae2.\n",
      "> Parent node text: PAGE 23Each project is only one step on a longer journey, hopefully one that has a positive impac...\n",
      "\n",
      "> Merging 1 nodes into parent node.\n",
      "> Parent node id: 7285b8c5-50a9-43de-af76-aa1bb1e4cba9.\n",
      "> Parent node text: PAGE 3Table of \n",
      "ContentsIntroduction: Coding AI is the New Literacy.\n",
      "Chapter 1: Three Steps to Ca...\n",
      "\n",
      "Starting dashboard ...\n",
      "Config file already exists. Skipping writing process.\n",
      "Credentials file already exists. Skipping writing process.\n",
      "Dashboard already running at path:   Network URL: http://192.168.178.25:8501\n",
      "\n"
     ]
    },
    {
     "data": {
      "text/plain": [
       "<Popen: returncode: None args: ['streamlit', 'run', '--server.headless=True'...>"
      ]
     },
     "execution_count": 8,
     "metadata": {},
     "output_type": "execute_result"
    }
   ],
   "source": [
    "tru_recorder = trulens_recorder(\n",
    "    auto_merging_engine_0,\n",
    "    app_id ='auto merging - 2 layers'\n",
    ")\n",
    "run_evals(eval_questions, tru_recorder, auto_merging_engine_0)\n",
    "Tru().get_leaderboard(app_ids=[])\n",
    "Tru().run_dashboard()"
   ]
  },
  {
   "cell_type": "code",
   "execution_count": null,
   "id": "56beb294-abac-4f1e-ae63-fe20bcfe9330",
   "metadata": {},
   "outputs": [],
   "source": []
  }
 ],
 "metadata": {
  "kernelspec": {
   "display_name": "Python 3 (ipykernel)",
   "language": "python",
   "name": "python3"
  },
  "language_info": {
   "codemirror_mode": {
    "name": "ipython",
    "version": 3
   },
   "file_extension": ".py",
   "mimetype": "text/x-python",
   "name": "python",
   "nbconvert_exporter": "python",
   "pygments_lexer": "ipython3",
   "version": "3.10.13"
  }
 },
 "nbformat": 4,
 "nbformat_minor": 5
}
