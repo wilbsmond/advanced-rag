{
 "cells": [
  {
   "cell_type": "code",
   "execution_count": 9,
   "id": "7b5517ec-d78e-4740-81fb-d7549c74860c",
   "metadata": {},
   "outputs": [],
   "source": [
    "import os\n",
    "from dotenv import load_dotenv\n",
    "import openai\n",
    "from llama_index import download_loader, SimpleDirectoryReader, Document\n",
    "from llama_index.llms import OpenAI\n",
    "from trulens_eval import Tru\n",
    "\n",
    "from sentence_window_retrieval import build_sentence_window_index, get_sentence_window_query_engine\n",
    "from auto_merging_retrieval import build_automerging_index, get_automerging_query_engine\n",
    "from trulens_utils import trulens_recorder, run_evals"
   ]
  },
  {
   "cell_type": "code",
   "execution_count": 10,
   "id": "c5a64e62-0b62-46c5-8aa1-887f501be331",
   "metadata": {},
   "outputs": [],
   "source": [
    "_ = load_dotenv()\n",
    "openai.api_key = os.getenv(\"OPENAI_API_KEY\")\n",
    "notion_token = os.getenv('NOTION_INTEGRATION_TOKEN')"
   ]
  },
  {
   "cell_type": "code",
   "execution_count": 11,
   "id": "4093e118-dbc2-441b-9a36-315f9212d554",
   "metadata": {},
   "outputs": [],
   "source": [
    "llm = OpenAI(model=\"gpt-3.5-turbo\", temperature=0.1)"
   ]
  },
  {
   "cell_type": "code",
   "execution_count": 18,
   "id": "efc46b98-15be-45d7-b9a9-d215c8153bec",
   "metadata": {},
   "outputs": [],
   "source": [
    "documents = SimpleDirectoryReader(\n",
    "    input_files=[\"./docs/eBook-How-to-Build-a-Career-in-AI.pdf\"]\n",
    ").load_data()"
   ]
  },
  {
   "cell_type": "code",
   "execution_count": 30,
   "id": "5074497c-929e-40ff-b9e4-1933c4554f23",
   "metadata": {},
   "outputs": [
    {
     "name": "stdout",
     "output_type": "stream",
     "text": [
      "<class 'list'> \n",
      "\n",
      "41 \n",
      "\n",
      "<class 'llama_index.schema.Document'>\n",
      "Doc ID: 795df622-ee93-4e2e-bbac-0364777641ae\n",
      "Text: PAGE 1Founder, DeepLearning.AICollected Insights from Andrew Ng\n",
      "How to  Build Your Career in AIA Simple Guide\n"
     ]
    }
   ],
   "source": [
    "print(type(documents), \"\\n\")\n",
    "print(len(documents), \"\\n\")\n",
    "print(type(documents[0]))\n",
    "print(documents[0])"
   ]
  },
  {
   "cell_type": "code",
   "execution_count": 32,
   "id": "ef23e0cd-220f-465d-90cf-b707fc663345",
   "metadata": {},
   "outputs": [],
   "source": [
    "index = VectorStoreIndex.from_documents(documents)\n",
    "query_engine = index.as_chat_engine()"
   ]
  },
  {
   "cell_type": "code",
   "execution_count": 34,
   "id": "e6a24393-59c1-4416-b354-3aaf9aefdd87",
   "metadata": {},
   "outputs": [
    {
     "name": "stdout",
     "output_type": "stream",
     "text": [
      "I'm sorry, but I don't have access to specific authors or their opinions unless you provide me with the name of the author or a specific book or article.\n"
     ]
    }
   ],
   "source": [
    "response = query_engine.chat(\"what does the author say about how to build a successful career in AI\")\n",
    "print(response)"
   ]
  },
  {
   "cell_type": "code",
   "execution_count": 36,
   "id": "25e582a9-0919-4422-906d-a85003804e25",
   "metadata": {},
   "outputs": [],
   "source": [
    "query_engine.reset()"
   ]
  },
  {
   "cell_type": "code",
   "execution_count": null,
   "id": "a79553e1-c54a-4701-838f-2171734927a4",
   "metadata": {
    "scrolled": true
   },
   "outputs": [],
   "source": [
    "query_engine.chat_repl()"
   ]
  },
  {
   "cell_type": "code",
   "execution_count": null,
   "id": "dc3ea032-26b4-4ff4-8637-4511e2d0de61",
   "metadata": {},
   "outputs": [],
   "source": []
  },
  {
   "cell_type": "code",
   "execution_count": 13,
   "id": "6f723499-752f-4d84-9b8f-fd7bfb6e7b48",
   "metadata": {},
   "outputs": [
    {
     "name": "stdout",
     "output_type": "stream",
     "text": [
      "The LLM sees this: \n",
      " Metadata: category=>finance::author=>LlamaIndex\n",
      "-----\n",
      "Content: This is a super-customized document\n",
      "The Embedding model sees this: \n",
      " Metadata: file_name=>super_secret_document.txt::category=>finance::author=>LlamaIndex\n",
      "-----\n",
      "Content: This is a super-customized document\n"
     ]
    }
   ],
   "source": [
    "from llama_index.schema import MetadataMode\n",
    "\n",
    "document = Document(\n",
    "    text=\"This is a super-customized document\",\n",
    "    metadata={\n",
    "        \"file_name\": \"super_secret_document.txt\",\n",
    "        \"category\": \"finance\",\n",
    "        \"author\": \"LlamaIndex\",\n",
    "    },\n",
    "    excluded_llm_metadata_keys=[\"file_name\"],\n",
    "    metadata_seperator=\"::\",\n",
    "    metadata_template=\"{key}=>{value}\",\n",
    "    text_template=\"Metadata: {metadata_str}\\n-----\\nContent: {content}\",\n",
    ")\n",
    "\n",
    "\n",
    "print(\n",
    "    \"The LLM sees this: \\n\",\n",
    "    document.get_content(metadata_mode=MetadataMode.LLM),\n",
    ")\n",
    "print(\n",
    "    \"The Embedding model sees this: \\n\",\n",
    "    document.get_content(metadata_mode=MetadataMode.EMBED),\n",
    ")"
   ]
  },
  {
   "cell_type": "code",
   "execution_count": null,
   "id": "84e93d83-f457-45af-8542-bafa972a563f",
   "metadata": {},
   "outputs": [],
   "source": [
    "## How to automatically extract metadata?\n",
    "\n"
   ]
  },
  {
   "cell_type": "code",
   "execution_count": 15,
   "id": "c87578a1-8642-4f71-8de3-da5edc2e202e",
   "metadata": {},
   "outputs": [],
   "source": [
    "from llama_index import VectorStoreIndex, SimpleDirectoryReader\n",
    "from llama_hub.web.simple_web.base import SimpleWebPageReader\n",
    "\n",
    "reader = SimpleWebPageReader(html_to_text=True)\n",
    "\n",
    "docs = reader.load_data(urls=[\"https://eugeneyan.com/writing/llm-patterns/\"])"
   ]
  }
 ],
 "metadata": {
  "kernelspec": {
   "display_name": "Python 3 (ipykernel)",
   "language": "python",
   "name": "python3"
  },
  "language_info": {
   "codemirror_mode": {
    "name": "ipython",
    "version": 3
   },
   "file_extension": ".py",
   "mimetype": "text/x-python",
   "name": "python",
   "nbconvert_exporter": "python",
   "pygments_lexer": "ipython3",
   "version": "3.10.13"
  }
 },
 "nbformat": 4,
 "nbformat_minor": 5
}
